{
 "cells": [
  {
   "cell_type": "markdown",
   "metadata": {},
   "source": [
    "# 1.4.4 Smoothing Images"
   ]
  },
  {
   "cell_type": "markdown",
   "metadata": {},
   "source": [
    "## Kernel Convolution"
   ]
  },
  {
   "cell_type": "code",
   "execution_count": 1,
   "metadata": {},
   "outputs": [],
   "source": [
    "import cv2\n",
    "import numpy as np\n",
    "from matplotlib import pyplot as plt"
   ]
  },
  {
   "cell_type": "code",
   "execution_count": 2,
   "metadata": {},
   "outputs": [],
   "source": [
    "l=1\n",
    "kernel = np.array([[0,-1,0],[-1,4,-1],[0,-1,0]],np.float32)"
   ]
  },
  {
   "cell_type": "code",
   "execution_count": 3,
   "metadata": {},
   "outputs": [
    {
     "data": {
      "text/plain": [
       "array([[ 0., -1.,  0.],\n",
       "       [-1.,  4., -1.],\n",
       "       [ 0., -1.,  0.]], dtype=float32)"
      ]
     },
     "execution_count": 3,
     "metadata": {},
     "output_type": "execute_result"
    }
   ],
   "source": [
    "kernel"
   ]
  },
  {
   "cell_type": "code",
   "execution_count": 35,
   "metadata": {},
   "outputs": [],
   "source": [
    "img = np.random.randint(10, size=(12,12))\n",
    "#img = np.ones((10,10),np.float32)"
   ]
  },
  {
   "cell_type": "code",
   "execution_count": 36,
   "metadata": {},
   "outputs": [
    {
     "data": {
      "text/plain": [
       "array([[3, 6, 0, 6, 4, 3, 5, 9, 7, 9, 3, 6],\n",
       "       [3, 8, 7, 0, 8, 1, 0, 7, 2, 2, 0, 2],\n",
       "       [3, 7, 6, 3, 6, 5, 4, 5, 1, 0, 8, 5],\n",
       "       [4, 5, 3, 3, 2, 4, 3, 9, 4, 7, 8, 4],\n",
       "       [9, 7, 6, 7, 0, 4, 7, 3, 3, 2, 6, 3],\n",
       "       [6, 0, 7, 2, 1, 5, 6, 1, 5, 8, 5, 3],\n",
       "       [6, 6, 1, 1, 0, 6, 8, 5, 6, 8, 3, 6],\n",
       "       [0, 2, 6, 5, 2, 4, 5, 9, 4, 7, 5, 7],\n",
       "       [8, 3, 7, 5, 8, 9, 2, 1, 8, 3, 3, 4],\n",
       "       [6, 6, 6, 3, 1, 7, 0, 3, 3, 7, 8, 7],\n",
       "       [2, 2, 5, 5, 8, 7, 1, 5, 9, 4, 3, 7],\n",
       "       [5, 7, 9, 7, 7, 6, 9, 6, 1, 2, 0, 0]])"
      ]
     },
     "execution_count": 36,
     "metadata": {},
     "output_type": "execute_result"
    }
   ],
   "source": [
    "img"
   ]
  },
  {
   "cell_type": "code",
   "execution_count": 37,
   "metadata": {},
   "outputs": [],
   "source": [
    "h,w=img.shape"
   ]
  },
  {
   "cell_type": "code",
   "execution_count": 38,
   "metadata": {},
   "outputs": [
    {
     "name": "stdout",
     "output_type": "stream",
     "text": [
      "12 12\n"
     ]
    }
   ],
   "source": [
    "print(h,w)"
   ]
  },
  {
   "cell_type": "code",
   "execution_count": 16,
   "metadata": {},
   "outputs": [],
   "source": [
    "#[*range(-2,3)]"
   ]
  },
  {
   "cell_type": "code",
   "execution_count": 39,
   "metadata": {},
   "outputs": [],
   "source": [
    "dst = np.zeros((h,w),int)"
   ]
  },
  {
   "cell_type": "code",
   "execution_count": 40,
   "metadata": {},
   "outputs": [],
   "source": [
    "for i in range(l,h-l):\n",
    "    for j in range(l,w-l):\n",
    "        t=0\n",
    "        for p in range(-l,l+1):\n",
    "            for q in range(-l,l+1):\n",
    "                t += kernel[p+l,q+l]*img[i+p,j+q]\n",
    "        dst[i,j]=t        "
   ]
  },
  {
   "cell_type": "code",
   "execution_count": 41,
   "metadata": {},
   "outputs": [
    {
     "data": {
      "text/plain": [
       "array([[3, 6, 0, 6, 4, 3, 5, 9, 7, 9, 3, 6],\n",
       "       [3, 8, 7, 0, 8, 1, 0, 7, 2, 2, 0, 2],\n",
       "       [3, 7, 6, 3, 6, 5, 4, 5, 1, 0, 8, 5],\n",
       "       [4, 5, 3, 3, 2, 4, 3, 9, 4, 7, 8, 4],\n",
       "       [9, 7, 6, 7, 0, 4, 7, 3, 3, 2, 6, 3],\n",
       "       [6, 0, 7, 2, 1, 5, 6, 1, 5, 8, 5, 3],\n",
       "       [6, 6, 1, 1, 0, 6, 8, 5, 6, 8, 3, 6],\n",
       "       [0, 2, 6, 5, 2, 4, 5, 9, 4, 7, 5, 7],\n",
       "       [8, 3, 7, 5, 8, 9, 2, 1, 8, 3, 3, 4],\n",
       "       [6, 6, 6, 3, 1, 7, 0, 3, 3, 7, 8, 7],\n",
       "       [2, 2, 5, 5, 8, 7, 1, 5, 9, 4, 3, 7],\n",
       "       [5, 7, 9, 7, 7, 6, 9, 6, 1, 2, 0, 0]])"
      ]
     },
     "execution_count": 41,
     "metadata": {},
     "output_type": "execute_result"
    }
   ],
   "source": [
    "img"
   ]
  },
  {
   "cell_type": "code",
   "execution_count": 42,
   "metadata": {},
   "outputs": [
    {
     "data": {
      "text/plain": [
       "array([[  0,   0,   0,   0,   0,   0,   0,   0,   0,   0,   0,   0],\n",
       "       [  0,   9,  14, -24,  21, -12, -17,  12,  -9,  -3, -15,   0],\n",
       "       [  0,   6,   4,  -3,   6,   5,   3,  -1,  -7, -18,  19,   0],\n",
       "       [  0,  -1,  -8,  -3,  -5,   2, -12,  21,  -4,  14,   7,   0],\n",
       "       [  0,   8,   0,  17, -14,   0,  12,  -8,  -2, -16,   6,   0],\n",
       "       [  0, -26,  19,  -8,  -3,   3,   3, -15,   2,  12,   0,   0],\n",
       "       [  0,  15, -16,  -4, -10,   7,  10,  -4,   2,   8, -12,   0],\n",
       "       [  0,  -7,   9,   6,  -9,  -6,  -3,  21, -14,   8,   0,   0],\n",
       "       [  0, -11,   8,  -3,  15,  15,  -7, -18,  21, -13,  -8,   0],\n",
       "       [  0,   7,   3,  -5, -22,  11, -13,   3, -15,  10,  12,   0],\n",
       "       [  0, -12,  -2,  -3,  12,   6, -17,   1,  23,  -5,  -7,   0],\n",
       "       [  0,   0,   0,   0,   0,   0,   0,   0,   0,   0,   0,   0]])"
      ]
     },
     "execution_count": 42,
     "metadata": {},
     "output_type": "execute_result"
    }
   ],
   "source": [
    "dst"
   ]
  },
  {
   "cell_type": "code",
   "execution_count": 5,
   "metadata": {},
   "outputs": [],
   "source": [
    "img = cv2.imread('lena.png', 0)"
   ]
  },
  {
   "cell_type": "code",
   "execution_count": 6,
   "metadata": {},
   "outputs": [],
   "source": [
    "h,w=img.shape"
   ]
  },
  {
   "cell_type": "code",
   "execution_count": 7,
   "metadata": {},
   "outputs": [],
   "source": [
    "dst = np.zeros((h-2*l,w-2*l),np.uint8)"
   ]
  },
  {
   "cell_type": "code",
   "execution_count": 8,
   "metadata": {},
   "outputs": [],
   "source": [
    "for i in range(l,h-l):\n",
    "    for j in range(l,w-l):\n",
    "        t=0\n",
    "        for p in range(-l,l+1):\n",
    "            for q in range(-l,l+1):\n",
    "                t += kernel[p+l,q+l]*img[i+p,j+q]\n",
    "        dst[i-l,j-l]=t "
   ]
  },
  {
   "cell_type": "code",
   "execution_count": 9,
   "metadata": {},
   "outputs": [],
   "source": [
    "cv2.imshow('img',img)\n",
    "cv2.imshow('dst',dst)\n",
    "cv2.waitKey(0)\n",
    "cv2.destroyAllWindows()"
   ]
  }
 ],
 "metadata": {
  "kernelspec": {
   "display_name": "Python 3",
   "language": "python",
   "name": "python3"
  },
  "language_info": {
   "codemirror_mode": {
    "name": "ipython",
    "version": 3
   },
   "file_extension": ".py",
   "mimetype": "text/x-python",
   "name": "python",
   "nbconvert_exporter": "python",
   "pygments_lexer": "ipython3",
   "version": "3.8.18"
  }
 },
 "nbformat": 4,
 "nbformat_minor": 4
}
