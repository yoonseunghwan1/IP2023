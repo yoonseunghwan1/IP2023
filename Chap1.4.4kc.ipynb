{
 "cells": [
  {
   "cell_type": "markdown",
   "metadata": {},
   "source": [
    "# 1.4.4 Smoothing Images"
   ]
  },
  {
   "cell_type": "markdown",
   "metadata": {},
   "source": [
    "## Kernel Convolution"
   ]
  },
  {
   "cell_type": "code",
   "execution_count": 1,
   "metadata": {},
   "outputs": [],
   "source": [
    "import cv2\n",
    "import numpy as np\n",
    "from matplotlib import pyplot as plt"
   ]
  },
  {
   "cell_type": "code",
   "execution_count": 2,
   "metadata": {},
   "outputs": [],
   "source": [
    "l=1\n",
    "kernel = np.array([[0,-1,0],[-1,4,-1],[0,-1,0]],np.float32)"
   ]
  },
  {
   "cell_type": "code",
   "execution_count": 3,
   "metadata": {},
   "outputs": [
    {
     "data": {
      "text/plain": [
       "array([[ 0., -1.,  0.],\n",
       "       [-1.,  4., -1.],\n",
       "       [ 0., -1.,  0.]], dtype=float32)"
      ]
     },
     "execution_count": 3,
     "metadata": {},
     "output_type": "execute_result"
    }
   ],
   "source": [
    "kernel"
   ]
  },
  {
   "cell_type": "code",
   "execution_count": 4,
   "metadata": {},
   "outputs": [],
   "source": [
    "img = np.random.randint(10, size=(12,12))\n",
    "#img = np.ones((10,10),np.float32)"
   ]
  },
  {
   "cell_type": "code",
   "execution_count": 5,
   "metadata": {},
   "outputs": [
    {
     "data": {
      "text/plain": [
       "array([[8, 1, 7, 0, 2, 7, 1, 4, 3, 0, 0, 2],\n",
       "       [5, 1, 9, 6, 1, 4, 2, 6, 2, 7, 5, 6],\n",
       "       [8, 3, 9, 3, 3, 6, 5, 6, 5, 5, 1, 8],\n",
       "       [5, 5, 9, 9, 9, 1, 9, 8, 0, 6, 9, 9],\n",
       "       [4, 0, 0, 6, 1, 0, 4, 0, 5, 9, 9, 6],\n",
       "       [7, 5, 8, 8, 5, 6, 9, 9, 7, 3, 7, 9],\n",
       "       [0, 8, 5, 6, 4, 8, 2, 7, 0, 5, 0, 0],\n",
       "       [4, 6, 9, 5, 2, 1, 1, 0, 2, 2, 1, 1],\n",
       "       [1, 9, 1, 8, 7, 3, 2, 6, 6, 2, 5, 3],\n",
       "       [4, 0, 1, 2, 8, 7, 0, 4, 9, 6, 1, 9],\n",
       "       [0, 3, 1, 0, 1, 4, 3, 3, 6, 0, 8, 6],\n",
       "       [7, 9, 6, 6, 8, 1, 0, 3, 1, 4, 1, 9]])"
      ]
     },
     "execution_count": 5,
     "metadata": {},
     "output_type": "execute_result"
    }
   ],
   "source": [
    "img"
   ]
  },
  {
   "cell_type": "code",
   "execution_count": 6,
   "metadata": {},
   "outputs": [],
   "source": [
    "h,w=img.shape"
   ]
  },
  {
   "cell_type": "code",
   "execution_count": 7,
   "metadata": {},
   "outputs": [
    {
     "name": "stdout",
     "output_type": "stream",
     "text": [
      "12 12\n"
     ]
    }
   ],
   "source": [
    "print(h,w)"
   ]
  },
  {
   "cell_type": "code",
   "execution_count": 8,
   "metadata": {},
   "outputs": [],
   "source": [
    "#[*range(-2,3)]"
   ]
  },
  {
   "cell_type": "code",
   "execution_count": 9,
   "metadata": {},
   "outputs": [],
   "source": [
    "dst = np.zeros((h,w),int)"
   ]
  },
  {
   "cell_type": "code",
   "execution_count": 10,
   "metadata": {},
   "outputs": [],
   "source": [
    "for i in range(l,h-l):\n",
    "    for j in range(l,w-l):\n",
    "        t=0\n",
    "        for p in range(-l,l+1):\n",
    "            for q in range(-l,l+1):\n",
    "                t += kernel[p+l,q+l]*img[i+p,j+q]\n",
    "        dst[i,j]=t        "
   ]
  },
  {
   "cell_type": "code",
   "execution_count": 11,
   "metadata": {},
   "outputs": [
    {
     "data": {
      "text/plain": [
       "array([[8, 1, 7, 0, 2, 7, 1, 4, 3, 0, 0, 2],\n",
       "       [5, 1, 9, 6, 1, 4, 2, 6, 2, 7, 5, 6],\n",
       "       [8, 3, 9, 3, 3, 6, 5, 6, 5, 5, 1, 8],\n",
       "       [5, 5, 9, 9, 9, 1, 9, 8, 0, 6, 9, 9],\n",
       "       [4, 0, 0, 6, 1, 0, 4, 0, 5, 9, 9, 6],\n",
       "       [7, 5, 8, 8, 5, 6, 9, 9, 7, 3, 7, 9],\n",
       "       [0, 8, 5, 6, 4, 8, 2, 7, 0, 5, 0, 0],\n",
       "       [4, 6, 9, 5, 2, 1, 1, 0, 2, 2, 1, 1],\n",
       "       [1, 9, 1, 8, 7, 3, 2, 6, 6, 2, 5, 3],\n",
       "       [4, 0, 1, 2, 8, 7, 0, 4, 9, 6, 1, 9],\n",
       "       [0, 3, 1, 0, 1, 4, 3, 3, 6, 0, 8, 6],\n",
       "       [7, 9, 6, 6, 8, 1, 0, 3, 1, 4, 1, 9]])"
      ]
     },
     "execution_count": 11,
     "metadata": {},
     "output_type": "execute_result"
    }
   ],
   "source": [
    "img"
   ]
  },
  {
   "cell_type": "code",
   "execution_count": 12,
   "metadata": {},
   "outputs": [
    {
     "data": {
      "text/plain": [
       "array([[  0,   0,   0,   0,   0,   0,   0,   0,   0,   0,   0,   0],\n",
       "       [  0, -14,  13,  11, -11,   0,  -8,  10, -13,  16,   6,   0],\n",
       "       [  0, -11,  12, -15,  -7,  11,  -3,   0,   7,   1, -23,   0],\n",
       "       [  0,   3,  13,   9,  22, -20,  18,  17, -24,   1,  11,   0],\n",
       "       [  0, -14, -23,   6, -16, -12,  -2, -26,   4,  13,   5,   0],\n",
       "       [  0,  -3,  14,   7,   1,   2,  15,  13,  11, -16,   7,   0],\n",
       "       [  0,  16, -11,   2,  -5,  19, -17,  17, -21,  15, -13,   0],\n",
       "       [  0,  -6,  19,  -5,  -9, -10,  -1, -16,   0,  -2,  -4,   0],\n",
       "       [  0,  28, -23,  17,   7,  -5,  -2,  12,   5, -11,  13,   0],\n",
       "       [  0, -17,   0,  -9,  15,  13, -16,  -2,  14,  12, -24,   0],\n",
       "       [  0,   2,  -6, -10, -16,   4,   5,  -4,  11, -24,  24,   0],\n",
       "       [  0,   0,   0,   0,   0,   0,   0,   0,   0,   0,   0,   0]])"
      ]
     },
     "execution_count": 12,
     "metadata": {},
     "output_type": "execute_result"
    }
   ],
   "source": [
    "dst"
   ]
  },
  {
   "cell_type": "code",
   "execution_count": 13,
   "metadata": {},
   "outputs": [],
   "source": [
    "img = cv2.imread('lena.png', 0)"
   ]
  },
  {
   "cell_type": "code",
   "execution_count": 14,
   "metadata": {},
   "outputs": [],
   "source": [
    "h,w=img.shape"
   ]
  },
  {
   "cell_type": "code",
   "execution_count": 15,
   "metadata": {},
   "outputs": [],
   "source": [
    "dst = np.zeros((h-2*l,w-2*l),np.uint8)"
   ]
  },
  {
   "cell_type": "code",
   "execution_count": 16,
   "metadata": {},
   "outputs": [],
   "source": [
    "for i in range(l,h-l):\n",
    "    for j in range(l,w-l):\n",
    "        t=0\n",
    "        for p in range(-l,l+1):\n",
    "            for q in range(-l,l+1):\n",
    "                t += kernel[p+l,q+l]*img[i+p,j+q]\n",
    "        dst[i-l,j-l]=t "
   ]
  },
  {
   "cell_type": "code",
   "execution_count": 17,
   "metadata": {},
   "outputs": [],
   "source": [
    "cv2.imshow('img',img)\n",
    "cv2.imshow('dst',dst)\n",
    "cv2.waitKey(0)\n",
    "cv2.destroyAllWindows()"
   ]
  }
 ],
 "metadata": {
  "kernelspec": {
   "display_name": "Python 3",
   "language": "python",
   "name": "python3"
  },
  "language_info": {
   "codemirror_mode": {
    "name": "ipython",
    "version": 3
   },
   "file_extension": ".py",
   "mimetype": "text/x-python",
   "name": "python",
   "nbconvert_exporter": "python",
   "pygments_lexer": "ipython3",
   "version": "3.8.18"
  }
 },
 "nbformat": 4,
 "nbformat_minor": 4
}
